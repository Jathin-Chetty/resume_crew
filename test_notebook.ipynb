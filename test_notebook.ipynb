{
  "cells": [
    {
      "cell_type": "code",
      "execution_count": null,
      "metadata": {
        "vscode": {
          "languageId": "plaintext"
        }
      },
      "outputs": [],
      "source": [
        "# Multi-Agent Job Application Optimization System\n",
        "\n",
        "## Problem Statement\n",
        "\n",
        "**Problem**: Job applications are complex, multi-step processes requiring specialized expertise across different domains. Candidates must research job requirements, compile comprehensive profiles, tailor resumes to specific roles, and prepare for interviews - each requiring different skills and knowledge that most job seekers lack.\n",
        "\n",
        "**Why AI Agents**: AI agents can process large amounts of information from multiple sources (job postings, GitHub profiles, personal data), apply specialized knowledge consistently, and provide personalized recommendations at scale.\n",
        "\n",
        "**Multi-Agent Value**: Instead of one agent trying to handle everything, we use specialized agents that work together:\n",
        "- Each agent focuses on their expertise area with specific tools\n",
        "- Agents can process different data sources simultaneously  \n",
        "- Collaborative workflow ensures each step builds on the previous one\n",
        "- Context sharing between agents creates comprehensive, personalized results\n",
        "\n",
        "**Solution**: A CrewAI-based system with 4 specialized agents that work together to optimize the entire job application process:\n",
        "- **Tech Job Researcher**: Scrapes and analyzes job postings to extract key requirements, skills, and qualifications\n",
        "- **Personal Profiler**: Compiles comprehensive candidate profiles from GitHub repositories and personal information\n",
        "- **Resume Strategist**: Tailors resumes to highlight relevant skills and experiences that match job requirements\n",
        "- **Interview Preparer**: Creates targeted interview questions and talking points based on the tailored resume and job requirements\n",
        "\n",
        "**Tools Used**: SerperDev (web search), ScrapeWebsite (job posting analysis), FileRead (resume processing), MDXSearch (semantic search of candidate data)\n"
      ]
    },
    {
      "cell_type": "code",
      "execution_count": null,
      "metadata": {
        "vscode": {
          "languageId": "plaintext"
        }
      },
      "outputs": [],
      "source": [
        "# Warning control\n",
        "import warnings\n",
        "warnings.filterwarnings('ignore')"
      ]
    },
    {
      "cell_type": "code",
      "execution_count": null,
      "metadata": {
        "vscode": {
          "languageId": "plaintext"
        }
      },
      "outputs": [],
      "source": [
        "from crewai import Agent, Task, Crew"
      ]
    },
    {
      "cell_type": "code",
      "execution_count": null,
      "metadata": {
        "vscode": {
          "languageId": "plaintext"
        }
      },
      "outputs": [],
      "source": [
        "import os\n",
        "from utils import get_openai_api_key, get_serper_api_key\n",
        "\n",
        "openai_api_key = get_openai_api_key()\n",
        "os.environ[\"OPENAI_MODEL_NAME\"] = 'gpt-3.5-turbo'\n",
        "os.environ[\"SERPER_API_KEY\"] = get_serper_api_key()"
      ]
    },
    {
      "cell_type": "code",
      "execution_count": null,
      "metadata": {
        "vscode": {
          "languageId": "plaintext"
        }
      },
      "outputs": [],
      "source": [
        "from crewai_tools import (\n",
        "  FileReadTool,\n",
        "  ScrapeWebsiteTool,\n",
        "  MDXSearchTool,\n",
        "  SerperDevTool\n",
        ")\n",
        "\n",
        "search_tool = SerperDevTool()\n",
        "scrape_tool = ScrapeWebsiteTool()\n",
        "read_resume = FileReadTool(file_path='./fake_resume.md')\n",
        "semantic_search_resume = MDXSearchTool(mdx='./fake_resume.md')"
      ]
    },
    {
      "cell_type": "markdown",
      "metadata": {},
      "source": [
        "## agent creation"
      ]
    },
    {
      "cell_type": "code",
      "execution_count": null,
      "metadata": {
        "vscode": {
          "languageId": "plaintext"
        }
      },
      "outputs": [],
      "source": [
        "# Agent 1: Researcher\n",
        "researcher = Agent(\n",
        "    role=\"Job Market Intelligence Analyst\",\n",
        "    goal=\"Conduct deep analysis of job postings to identify key requirements, skills, and qualifications that candidates need to highlight\",\n",
        "    tools = [scrape_tool, search_tool],\n",
        "    verbose=True,\n",
        "    backstory=(\n",
        "        \"You are a seasoned tech industry analyst with 8+ years of experience in talent acquisition. \"\n",
        "        \"Your expertise lies in decoding job descriptions, identifying hidden requirements, and understanding \"\n",
        "        \"what hiring managers truly value. You excel at extracting not just the obvious qualifications, \"\n",
        "        \"but also the underlying skills and experiences that separate top candidates from average ones.\"\n",
        "    )\n",
        ")"
      ]
    },
    {
      "cell_type": "code",
      "execution_count": null,
      "metadata": {
        "vscode": {
          "languageId": "plaintext"
        }
      },
      "outputs": [],
      "source": [
        "# Agent 2: Profiler\n",
        "profiler = Agent(\n",
        "    role=\"Candidate Intelligence Specialist\",\n",
        "    goal=\"Build comprehensive professional profiles by analyzing GitHub activity, project portfolios, and career history to identify unique strengths and achievements\",\n",
        "    tools = [scrape_tool, search_tool,\n",
        "             read_resume, semantic_search_resume],\n",
        "    verbose=True,\n",
        "    backstory=(\n",
        "        \"You are a former technical recruiter turned career strategist with deep expertise in evaluating \"\n",
        "        \"software engineers. Your background includes 6 years at top tech companies where you've reviewed \"\n",
        "        \"thousands of profiles. You have a unique ability to identify transferable skills, quantify achievements, \"\n",
        "        \"and spot patterns in career progression that others miss. You understand both technical depth and \"\n",
        "        \"business impact, making you exceptional at translating complex technical work into compelling narratives.\"\n",
        "    )\n",
        ")"
      ]
    },
    {
      "cell_type": "code",
      "execution_count": null,
      "metadata": {
        "vscode": {
          "languageId": "plaintext"
        }
      },
      "outputs": [],
      "source": [
        "# Agent 3: Resume Strategist\n",
        "resume_strategist = Agent(\n",
        "    role=\"Technical Resume Architect\",\n",
        "    goal=\"Transform candidate profiles into compelling, ATS-optimized resumes that strategically align with specific job requirements\",\n",
        "    tools = [scrape_tool, search_tool,\n",
        "             read_resume, semantic_search_resume],\n",
        "    verbose=True,\n",
        "    backstory=(\n",
        "        \"You are a former engineering manager and technical writing expert with 10+ years of experience in \"\n",
        "        \"helping engineers advance their careers. Your unique approach combines technical accuracy with \"\n",
        "        \"marketing psychology - you know how to make complex technical achievements sound impressive to \"\n",
        "        \"both technical and non-technical audiences. You've helped over 500 engineers land roles at \"\n",
        "        \"companies like Google, Microsoft, and startups, and you understand the subtle differences \"\n",
        "        \"between what different types of companies value in resumes.\"\n",
        "    )\n",
        ")"
      ]
    },
    {
      "cell_type": "code",
      "execution_count": null,
      "metadata": {
        "vscode": {
          "languageId": "plaintext"
        }
      },
      "outputs": [],
      "source": [
        "# Agent 4: Interview Preparer\n",
        "interview_preparer = Agent(\n",
        "    role=\"Technical Interview Coach\",\n",
        "    goal=\"Develop targeted interview strategies, technical questions, and behavioral talking points that showcase the candidate's strengths and address potential concerns\",\n",
        "    tools = [scrape_tool, search_tool,\n",
        "             read_resume, semantic_search_resume],\n",
        "    verbose=True,\n",
        "    backstory=(\n",
        "        \"You are a former engineering manager and technical interviewer with 12+ years of experience conducting \"\n",
        "        \"interviews at companies ranging from startups to FAANG. You've interviewed over 1,000 candidates and \"\n",
        "        \"understand the psychology behind technical interviews. Your expertise includes behavioral questions, \"\n",
        "        \"system design, coding challenges, and cultural fit assessments. You know how to help candidates \"\n",
        "        \"anticipate what interviewers are really looking for and how to present their experience in the most \"\n",
        "        \"compelling way possible.\"\n",
        "    )\n",
        ")"
      ]
    },
    {
      "cell_type": "markdown",
      "metadata": {},
      "source": [
        "# task creation"
      ]
    },
    {
      "cell_type": "code",
      "execution_count": null,
      "metadata": {
        "vscode": {
          "languageId": "plaintext"
        }
      },
      "outputs": [],
      "source": [
        "# Task for Researcher Agent: Extract Job Requirements\n",
        "research_task = Task(\n",
        "    description=(\n",
        "        \"Conduct a comprehensive analysis of the job posting at {job_posting_url}. \"\n",
        "        \"Extract both explicit and implicit requirements, including technical skills, \"\n",
        "        \"soft skills, experience levels, and cultural fit indicators. Identify the \"\n",
        "        \"most critical qualifications that will differentiate successful candidates. \"\n",
        "        \"Use web scraping and search tools to gather additional context about the \"\n",
        "        \"company and role expectations.\"\n",
        "    ),\n",
        "    expected_output=(\n",
        "        \"A detailed breakdown of job requirements organized by priority, including \"\n",
        "        \"must-have qualifications, nice-to-have skills, and hidden requirements \"\n",
        "        \"that indicate what the company truly values. Include specific examples \"\n",
        "        \"and context for each requirement.\"\n",
        "    ),\n",
        "    agent=researcher,\n",
        "    async_execution=True\n",
        ")"
      ]
    },
    {
      "cell_type": "code",
      "execution_count": null,
      "metadata": {
        "vscode": {
          "languageId": "plaintext"
        }
      },
      "outputs": [],
      "source": [
        "# Task for Profiler Agent: Compile Comprehensive Profile\n",
        "profile_task = Task(\n",
        "    description=(\n",
        "        \"Build a comprehensive professional profile by analyzing the candidate's \"\n",
        "        \"GitHub repository at {github_url} and personal background from {personal_writeup}. \"\n",
        "        \"Examine code quality, project complexity, collaboration patterns, and technical \"\n",
        "        \"expertise demonstrated through their work. Identify unique strengths, \"\n",
        "        \"achievements, and areas of specialization that set them apart from other candidates.\"\n",
        "    ),\n",
        "    expected_output=(\n",
        "        \"A detailed professional profile including technical skills assessment, \"\n",
        "        \"project portfolio analysis, collaboration patterns, code quality evaluation, \"\n",
        "        \"unique strengths identification, and quantified achievements. Include specific \"\n",
        "        \"examples and metrics that demonstrate the candidate's capabilities.\"\n",
        "    ),\n",
        "    agent=profiler,\n",
        "    async_execution=True\n",
        ")"
      ]
    },
    {
      "cell_type": "code",
      "execution_count": null,
      "metadata": {
        "vscode": {
          "languageId": "plaintext"
        }
      },
      "outputs": [],
      "source": [
        "# Task for Resume Strategist Agent: Align Resume with Job Requirements\n",
        "resume_strategy_task = Task(\n",
        "    description=(\n",
        "        \"Transform the candidate's profile into a compelling, ATS-optimized resume \"\n",
        "        \"that strategically aligns with the job requirements. Focus on highlighting \"\n",
        "        \"the most relevant skills and experiences while maintaining authenticity. \"\n",
        "        \"Optimize for both human recruiters and ATS systems, ensuring keyword density \"\n",
        "        \"and proper formatting. Emphasize quantifiable achievements and impact.\"\n",
        "    ),\n",
        "    expected_output=(\n",
        "        \"A professionally tailored resume that effectively showcases the candidate's \"\n",
        "        \"qualifications and experiences relevant to the specific job. The resume should \"\n",
        "        \"be ATS-friendly, well-formatted, and highlight key achievements with metrics. \"\n",
        "        \"Include a compelling professional summary and optimized skills section.\"\n",
        "    ),\n",
        "    output_file=\"tailored_resume.md\",\n",
        "    context=[research_task, profile_task],\n",
        "    agent=resume_strategist\n",
        ")"
      ]
    },
    {
      "cell_type": "code",
      "execution_count": null,
      "metadata": {
        "vscode": {
          "languageId": "plaintext"
        }
      },
      "outputs": [],
      "source": [
        "# Task for Interview Preparer Agent: Develop Interview Materials\n",
        "interview_preparation_task = Task(\n",
        "    description=(\n",
        "        \"Develop comprehensive interview preparation materials based on the tailored \"\n",
        "        \"resume and job requirements. Create targeted technical questions, behavioral \"\n",
        "        \"scenarios, and talking points that allow the candidate to showcase their \"\n",
        "        \"strengths and address potential concerns. Include both general and role-specific \"\n",
        "        \"questions that interviewers are likely to ask.\"\n",
        "    ),\n",
        "    expected_output=(\n",
        "        \"A comprehensive interview preparation guide including technical questions, \"\n",
        "        \"behavioral scenarios, STAR method examples, and strategic talking points. \"\n",
        "        \"Include questions about specific technologies, projects, and experiences \"\n",
        "        \"mentioned in the resume, along with suggested responses that highlight \"\n",
        "        \"the candidate's unique value proposition.\"\n",
        "    ),\n",
        "    output_file=\"interview_materials.md\",\n",
        "    context=[research_task, profile_task, resume_strategy_task],\n",
        "    agent=interview_preparer\n",
        ")\n"
      ]
    },
    {
      "cell_type": "markdown",
      "metadata": {},
      "source": [
        "# Crew creation"
      ]
    },
    {
      "cell_type": "code",
      "execution_count": null,
      "metadata": {
        "vscode": {
          "languageId": "plaintext"
        }
      },
      "outputs": [],
      "source": [
        "job_application_crew = Crew(\n",
        "    agents=[researcher, profiler, resume_strategist, interview_preparer],\n",
        "    tasks=[research_task, profile_task, resume_strategy_task, interview_preparation_task],\n",
        "    process=Process.sequential, \n",
        "    verbose=True,\n",
        "    memory=True, \n",
        "   \n",
        ")\n"
      ]
    },
    {
      "cell_type": "code",
      "execution_count": null,
      "metadata": {
        "vscode": {
          "languageId": "plaintext"
        }
      },
      "outputs": [],
      "source": [
        "# running the crew"
      ]
    },
    {
      "cell_type": "code",
      "execution_count": null,
      "metadata": {
        "vscode": {
          "languageId": "plaintext"
        }
      },
      "outputs": [],
      "source": [
        "job_application_inputs = {\n",
        "    'job_posting_url': 'https://jobs.lever.co/AIFund/6c82e23e-d954-4dd8-a734-c0c2c5ee00f1?lever-origin=applied&lever-source%5B%5D=AI+Fund',\n",
        "    'github_url': 'https://github.com/joaomdmoura',\n",
        "    'personal_writeup': \"\"\"Noah is an accomplished Software\n",
        "    Engineering Leader with 18 years of experience, specializing in\n",
        "    managing remote and in-office teams, and expert in multiple\n",
        "    programming languages and frameworks. He holds an MBA and a strong\n",
        "    background in AI and data science. Noah has successfully led\n",
        "    major tech initiatives and startups, proving his ability to drive\n",
        "    innovation and growth in the tech industry. Ideal for leadership\n",
        "    roles that require a strategic and innovative approach.\"\"\"\n",
        "}"
      ]
    },
    {
      "cell_type": "code",
      "execution_count": null,
      "metadata": {
        "vscode": {
          "languageId": "plaintext"
        }
      },
      "outputs": [],
      "source": [
        "# Execute the complete analysis workflow\n",
        "result = run_job_application_analysis(job_application_inputs)"
      ]
    },
    {
      "cell_type": "code",
      "execution_count": null,
      "metadata": {
        "vscode": {
          "languageId": "plaintext"
        }
      },
      "outputs": [],
      "source": [
        "from IPython.display import Markdown, display\n",
        "display(Markdown(\"./tailored_resume.md\"))"
      ]
    },
    {
      "cell_type": "code",
      "execution_count": null,
      "metadata": {
        "vscode": {
          "languageId": "plaintext"
        }
      },
      "outputs": [],
      "source": [
        "display(Markdown(\"./interview_materials.md\"))"
      ]
    }
  ],
  "metadata": {
    "language_info": {
      "name": "python"
    }
  },
  "nbformat": 4,
  "nbformat_minor": 2
}
